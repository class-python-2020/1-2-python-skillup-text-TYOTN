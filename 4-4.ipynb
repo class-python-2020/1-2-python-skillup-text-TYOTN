{
 "metadata": {
  "language_info": {
   "codemirror_mode": {
    "name": "ipython",
    "version": 3
   },
   "file_extension": ".py",
   "mimetype": "text/x-python",
   "name": "python",
   "nbconvert_exporter": "python",
   "pygments_lexer": "ipython3",
   "version": "3.8.5-final"
  },
  "orig_nbformat": 2,
  "kernelspec": {
   "name": "python38532bitc57b5691c5cf4a95a57080325b4f3d7c",
   "display_name": "Python 3.8.5 32-bit"
  }
 },
 "nbformat": 4,
 "nbformat_minor": 2,
 "cells": [
  {
   "cell_type": "code",
   "execution_count": 2,
   "metadata": {
    "tags": []
   },
   "outputs": [
    {
     "output_type": "stream",
     "name": "stdout",
     "text": "animal: cat\nanimal in my_func: cat\nvegetable in_the_func: carrot\n"
    }
   ],
   "source": [
    "animal ='cat'\n",
    "print('animal:',animal)\n",
    "\n",
    "def my_func():\n",
    "    vegetable ='carrot'\n",
    "    print('animal in my_func:',animal)\n",
    "    print('vegetable in_the_func:',vegetable)\n",
    "\n",
    "my_func()"
   ]
  },
  {
   "cell_type": "code",
   "execution_count": 3,
   "metadata": {
    "tags": []
   },
   "outputs": [
    {
     "output_type": "stream",
     "name": "stdout",
     "text": "animal: cat\nvegetable in_the_func: dog\nanimal gloal after my_func: cat\n"
    }
   ],
   "source": [
    "animal ='cat'\n",
    "print('animal:',animal)\n",
    "\n",
    "def my_func():\n",
    "    animal = 'dog'\n",
    "    print('vegetable in_the_func:',animal)\n",
    "\n",
    "my_func()\n",
    "\n",
    "print( 'animal gloal after my_func:',animal)"
   ]
  },
  {
   "cell_type": "markdown",
   "metadata": {},
   "source": []
  },
  {
   "cell_type": "code",
   "execution_count": 4,
   "metadata": {
    "tags": []
   },
   "outputs": [
    {
     "output_type": "stream",
     "name": "stdout",
     "text": "animal: cat\nanimal in my_func_alter dog\nanimal global after my_func_alter: dog\n"
    }
   ],
   "source": [
    "animal ='cat'\n",
    "print('animal:',animal)\n",
    "\n",
    "def my_func_alter():\n",
    "    global animal\n",
    "    animal = 'dog'\n",
    "    print('animal in my_func_alter',animal)\n",
    "\n",
    "my_func_alter()\n",
    "\n",
    "print('animal global after my_func_alter:',animal)"
   ]
  },
  {
   "cell_type": "code",
   "execution_count": 9,
   "metadata": {
    "tags": []
   },
   "outputs": [
    {
     "output_type": "stream",
     "name": "stdout",
     "text": "global_list in the func: ['tomato', 'spinach', 'pumpkin', 'potato', 'lottuce']\ninserted to the head\nglobal_list in the func: ['cabbage', 'tomato', 'spinach', 'pumpkin', 'potato', 'lottuce']\nglobal_list in the func: ['cabbage', 'tomato', 'spinach', 'pumpkin', 'potato', 'lottuce']\ninserted to the head\nglobal_list in the func: ['eggplant', 'cabbage', 'tomato', 'spinach', 'pumpkin', 'potato', 'lottuce']\nglobal_list: ['eggplant', 'cabbage', 'tomato', 'spinach', 'pumpkin', 'potato', 'lottuce']\n"
    }
   ],
   "source": [
    "global_list = ['tomato','spinach','pumpkin','potato','lottuce']\n",
    "\n",
    "def add_to_head(vegetable):\n",
    "    print('global_list in the func:',global_list)\n",
    "    global_list.insert(0,vegetable)\n",
    "    print('inserted to the head')\n",
    "    print('global_list in the func:',global_list)\n",
    "\n",
    "add_to_head('cabbage')\n",
    "add_to_head('eggplant')\n",
    "\n",
    "print('global_list:',global_list)"
   ]
  },
  {
   "cell_type": "code",
   "execution_count": 12,
   "metadata": {},
   "outputs": [],
   "source": [
    "vote_num = 0\n",
    "def vote ():\n",
    "    print('投票します')\n",
    "    global vote_num\n",
    "    vote_num += 1\n",
    "\n",
    "def reset_box():\n",
    "    global vote_num\n",
    "    print('箱を空にします')\n",
    "    vote_num= 0\n",
    "\n",
    "def check_box():\n",
    "    global vote_num\n",
    "    print('票の数は{}です'.format(vote_num))"
   ]
  },
  {
   "cell_type": "code",
   "execution_count": 13,
   "metadata": {
    "tags": []
   },
   "outputs": [
    {
     "output_type": "stream",
     "name": "stdout",
     "text": "投票します\n票の数は1です\n投票します\n票の数は2です\n投票します\n投票します\n投票します\n票の数は5です\n箱を空にします\n票の数は0です\n"
    }
   ],
   "source": [
    "vote()\n",
    "check_box()\n",
    "vote()\n",
    "check_box()\n",
    "for i in range(3):\n",
    "    vote()\n",
    "check_box()\n",
    "reset_box()\n",
    "check_box()"
   ]
  },
  {
   "cell_type": "code",
   "execution_count": 15,
   "metadata": {},
   "outputs": [],
   "source": [
    "vote_num=0\n",
    "\n",
    "def vote (vote_n):\n",
    "    print('投票します')\n",
    "    vote_n +=1\n",
    "    return vote_n\n",
    "\n",
    "def reset_box(vote_n):\n",
    "    print('箱を空にします')\n",
    "    vote_n = 0\n",
    "    return vote_n\n",
    "\n",
    "def check_box(vote_n):\n",
    "    print('票の数は{}です',format(vote_n))\n",
    "    return"
   ]
  },
  {
   "cell_type": "code",
   "execution_count": 18,
   "metadata": {
    "tags": []
   },
   "outputs": [
    {
     "output_type": "stream",
     "name": "stdout",
     "text": "投票します\n票の数は{}です 5\n投票します\n票の数は{}です 6\n投票します\n投票します\n投票します\n票の数は{}です 9\n箱を空にします\n票の数は{}です 0\n"
    }
   ],
   "source": [
    "vote_num= vote(vote_num)\n",
    "check_box(vote_num)\n",
    "vote_num = vote(vote_num)\n",
    "check_box(vote_num)\n",
    "for i in range(3):\n",
    "    vote_num = vote(vote_num)\n",
    "check_box(vote_num)\n",
    "vote_num = reset_box(vote_num)\n",
    "check_box(vote_num)"
   ]
  },
  {
   "cell_type": "code",
   "execution_count": null,
   "metadata": {},
   "outputs": [],
   "source": []
  }
 ]
}