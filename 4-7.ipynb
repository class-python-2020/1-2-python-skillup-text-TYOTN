{
 "metadata": {
  "language_info": {
   "codemirror_mode": {
    "name": "ipython",
    "version": 3
   },
   "file_extension": ".py",
   "mimetype": "text/x-python",
   "name": "python",
   "nbconvert_exporter": "python",
   "pygments_lexer": "ipython3",
   "version": "3.8.5-final"
  },
  "orig_nbformat": 2,
  "kernelspec": {
   "name": "python38532bitc57b5691c5cf4a95a57080325b4f3d7c",
   "display_name": "Python 3.8.5 32-bit"
  }
 },
 "nbformat": 4,
 "nbformat_minor": 2,
 "cells": [
  {
   "cell_type": "code",
   "execution_count": 4,
   "metadata": {
    "tags": []
   },
   "outputs": [
    {
     "output_type": "stream",
     "name": "stdout",
     "text": "outer function (a,b) = (4,7)\ninner function (c,d) = (4,7)\n28\n"
    }
   ],
   "source": [
    "def outer (a,b):\n",
    "    print('outer function (a,b) = ({},{})'.format(a,b))\n",
    "    def inner(c,d):\n",
    "        print('inner function (c,d) = ({},{})'.format(c,d))\n",
    "        return c * d\n",
    "    return inner(a,b)\n",
    "a = outer (4,7)\n",
    "print(a)"
   ]
  },
  {
   "cell_type": "code",
   "execution_count": 6,
   "metadata": {},
   "outputs": [
    {
     "output_type": "execute_result",
     "data": {
      "text/plain": "\"We are the knights who say: 'Ni!'\""
     },
     "metadata": {},
     "execution_count": 6
    }
   ],
   "source": [
    "def knights(saying):\n",
    "    def inner (quote):\n",
    "        return \"We are the knights who say: '%s'\" % quote\n",
    "    return inner(saying)\n",
    "\n",
    "knights('Ni!')"
   ]
  },
  {
   "cell_type": "code",
   "execution_count": 1,
   "metadata": {},
   "outputs": [],
   "source": [
    "def make_circle_area_func(pi = 3.14):\n",
    "    def circle_area(radius):\n",
    "        return radius *radius * pi\n",
    "\n",
    "    return circle_area\n",
    "circle_area_default = make_circle_area_func()\n",
    "circle_area_precise = make_circle_area_func(pi= 3.1415926535)"
   ]
  },
  {
   "cell_type": "code",
   "execution_count": 2,
   "metadata": {},
   "outputs": [
    {
     "output_type": "execute_result",
     "data": {
      "text/plain": "(function, function)"
     },
     "metadata": {},
     "execution_count": 2
    }
   ],
   "source": [
    "type(circle_area_default),type(circle_area_precise)"
   ]
  },
  {
   "cell_type": "code",
   "execution_count": 3,
   "metadata": {
    "tags": []
   },
   "outputs": [
    {
     "output_type": "stream",
     "name": "stdout",
     "text": "12.56\n12.566370614\n"
    }
   ],
   "source": [
    "print(circle_area_default(2))\n",
    "print(circle_area_precise(2))"
   ]
  },
  {
   "cell_type": "code",
   "execution_count": 4,
   "metadata": {
    "tags": []
   },
   "outputs": [
    {
     "output_type": "stream",
     "name": "stdout",
     "text": "<function makecounter.<locals>.count at 0x06BCDC40>\n<function makecounter.<locals>.count at 0x06BCDC40>\n<function makecounter.<locals>.count at 0x06BCDC40>\n"
    }
   ],
   "source": [
    "def makecounter():\n",
    "    n = 0\n",
    "    def count():\n",
    "        nonlocal n\n",
    "        n += 1\n",
    "        return n \n",
    "    return count\n",
    "counter = makecounter\n",
    "print(counter())\n",
    "print(counter())\n",
    "print(counter())\n"
   ]
  },
  {
   "cell_type": "code",
   "execution_count": 5,
   "metadata": {
    "tags": []
   },
   "outputs": [
    {
     "output_type": "stream",
     "name": "stdout",
     "text": "==== flag: Red\nSelection is 0 which may be the default\n====\n====flag: Blue\nyour choise is  1\n====\n"
    }
   ],
   "source": [
    "def show_message(num=0):\n",
    "    if num == 0:\n",
    "        flag = \"Red\"\n",
    "        print('==== flag:',flag)\n",
    "        print('Selection is',num,'which may be the default')\n",
    "        print('====')\n",
    "    else:\n",
    "        flag = 'Blue'\n",
    "        print('====flag:',flag)\n",
    "        print('your choise is ',num)\n",
    "        print('====')\n",
    "show_message(0)\n",
    "show_message(1)"
   ]
  },
  {
   "cell_type": "code",
   "execution_count": 6,
   "metadata": {},
   "outputs": [],
   "source": [
    "def make_addfunc():\n",
    "    def add(x,y):\n",
    "        return x+ y\n",
    "    return add"
   ]
  },
  {
   "cell_type": "code",
   "execution_count": 7,
   "metadata": {
    "tags": []
   },
   "outputs": [
    {
     "output_type": "stream",
     "name": "stdout",
     "text": "11\n"
    }
   ],
   "source": [
    "adder = make_addfunc()\n",
    "answer = adder(1,10)\n",
    "print(answer)"
   ]
  },
  {
   "cell_type": "code",
   "execution_count": 8,
   "metadata": {},
   "outputs": [],
   "source": [
    "def make_addfunc():\n",
    "    print('足し算する関数を作成')\n",
    "    def add (x,y):\n",
    "        print('{} + {} ={}'.format(x,y,x+y))\n",
    "        return x + y\n",
    "    return add"
   ]
  },
  {
   "cell_type": "code",
   "execution_count": 9,
   "metadata": {
    "tags": []
   },
   "outputs": [
    {
     "output_type": "stream",
     "name": "stdout",
     "text": "足し算する関数を作成\n"
    }
   ],
   "source": [
    "adder= make_addfunc()"
   ]
  },
  {
   "cell_type": "code",
   "execution_count": 10,
   "metadata": {
    "tags": []
   },
   "outputs": [
    {
     "output_type": "stream",
     "name": "stdout",
     "text": "1 + 10 =11\n"
    }
   ],
   "source": [
    "answer = adder(1,10)"
   ]
  },
  {
   "cell_type": "code",
   "execution_count": 11,
   "metadata": {
    "tags": []
   },
   "outputs": [
    {
     "output_type": "stream",
     "name": "stdout",
     "text": "11\n"
    }
   ],
   "source": [
    "print(answer)"
   ]
  },
  {
   "cell_type": "code",
   "execution_count": null,
   "metadata": {},
   "outputs": [],
   "source": []
  }
 ]
}